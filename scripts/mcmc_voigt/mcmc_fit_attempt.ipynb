{
 "cells": [
  {
   "cell_type": "code",
   "execution_count": 1,
   "metadata": {},
   "outputs": [],
   "source": [
    "import numpy as np\n",
    "import matplotlib.pylab as plt\n",
    "#%matplotlib inline\n",
    "import os\n",
    "import seaborn as sns\n",
    "\n",
    "import emcee\n",
    "import corner\n",
    "\n",
    "from astropy.modeling.models import Voigt1D\n",
    "import scipy.optimize as op\n",
    "\n",
    "import sys\n",
    "sys.path.append('../plotting/')\n",
    "import spec_helper_functions as shf\n",
    "import fit_helper_functions as fhf"
   ]
  },
  {
   "cell_type": "code",
   "execution_count": null,
   "metadata": {
    "scrolled": false
   },
   "outputs": [
    {
     "name": "stdout",
     "output_type": "stream",
     "text": [
      "HI [1.7739769680313877, 4.045487612538916, 27.091319039183706, 59.57942079385368]\n"
     ]
    },
    {
     "name": "stderr",
     "output_type": "stream",
     "text": [
      "/anaconda3/lib/python3.5/site-packages/emcee/ensemble.py:335: RuntimeWarning: invalid value encountered in subtract\n",
      "  lnpdiff = (self.dim - 1.) * np.log(zz) + newlnprob - lnprob0\n",
      "/anaconda3/lib/python3.5/site-packages/emcee/ensemble.py:336: RuntimeWarning: invalid value encountered in greater\n",
      "  accept = (lnpdiff > np.log(self._random.rand(len(lnpdiff))))\n"
     ]
    },
    {
     "name": "stdout",
     "output_type": "stream",
     "text": [
      "CII [4.125949423309683, 0.5584441956908077, 3.387413608974139, 27.03338344394072]\n"
     ]
    }
   ],
   "source": [
    "orientation = 'edge_theta1.0'\n",
    "orientation = 'face'\n",
    "model = 'anisd'\n",
    "radius = 30\n",
    "ion_list = ['HI', 'CII', 'CIII', 'SiIV', 'NV', 'OVI']\n",
    "#ion_list = ['CII', 'CIII', 'CII', 'CIII']\n",
    "vv_list, flux_list, ferr_list, theta_list = fhf.fit_spectrum(model, orientation, radius, ion_list = ion_list, \\\n",
    "                                                             use_errors = True, vmin = -200, vmax = 250, \\\n",
    "                                                             nwalkers = 200, niterations = 200)\n"
   ]
  },
  {
   "cell_type": "code",
   "execution_count": null,
   "metadata": {
    "scrolled": false
   },
   "outputs": [
    {
     "name": "stdout",
     "output_type": "stream",
     "text": [
      "HI [5.95856973718187, 3.0133643395301917, 59.9646377325769, 154.31958091864945]\n"
     ]
    },
    {
     "name": "stderr",
     "output_type": "stream",
     "text": [
      "/anaconda3/lib/python3.5/site-packages/emcee/ensemble.py:335: RuntimeWarning: invalid value encountered in subtract\n",
      "  lnpdiff = (self.dim - 1.) * np.log(zz) + newlnprob - lnprob0\n",
      "/anaconda3/lib/python3.5/site-packages/emcee/ensemble.py:336: RuntimeWarning: invalid value encountered in greater\n",
      "  accept = (lnpdiff > np.log(self._random.rand(len(lnpdiff))))\n"
     ]
    },
    {
     "name": "stdout",
     "output_type": "stream",
     "text": [
      "CII [4.952421983157704, 1.2290199974961036, 29.0344974293737, 32.06251085531645]\n",
      "CIII [2.5224020801602753, 5.093007416805307, 18.69328391498553, 45.430504425609186]\n",
      "SiIV [-0.6255252104112415, 1.3596423690802908, 24.22364974879426, 29.24090405596023]\n",
      "NV [2.7158030784254503, 1.0526736244533474, 42.85151011766882, 43.05041834198775]\n",
      "OVI [7.578481617524189, 3.15631080213146, 22.811362979808823, 72.19000117011285]\n",
      "HI [15.603931748408876, 9.31965819881461, 91.48390948293732, 274.4467573300667]\n",
      "CII [12.600445062167529, 1.4367696362057043, 31.65795805985752, 28.762122886040736]\n",
      "CIII [8.719787263537556, 3.4459284134815276, 18.251865394521207, 52.465875734817736]\n",
      "SiIV [12.453825077312711, 3.742400331423326, 8.596257519073726, 21.02793298325449]\n",
      "NV [-1.9387775117249184, 0.7240513271102378, 13.280669738497927, 57.47580169404834]\n",
      "OVI [36.88434558301669, 0.6266971780174463, 71.07040410587231, 80.37995551277707]\n",
      "HI [-20.723869153948765, 5.594508273179294, 29.940292333622715, 81.23110083797877]\n",
      "CII [-15.014605683416551, 1.016509800554118, 38.67179122897734, 36.373684428536016]\n",
      "CIII [-20.895301651945445, 4.16442459374349, 17.126737081296632, 45.5643866057]\n",
      "SiIV [-17.475994750456966, 1.1478262316550274, 31.36346857637301, 29.880190223159047]\n",
      "NV [-16.230155024851882, 1.0369352313849345, 44.64709907665179, 37.60799261870988]\n",
      "OVI [-9.557493389412256, 2.9373254154133424, 20.70416748574571, 67.2708403065259]\n",
      "HI [-29.965415587490153, 3.916185467744066, 43.59822132027353, 102.83578746322203]\n",
      "CII [-23.31192518923122, 2.11258386921415, 19.389554812068994, 45.48032699588702]\n",
      "CIII [-45.081306771989254, 4.069476590042237, 38.93598017889543, 65.84199487642275]\n",
      "SiIV [-20.079432555282143, 0.8671865416524938, 21.684377020931212, 17.77295837340158]\n",
      "NV [-33.0873290073756, 0.6724546193915714, 48.60068234400296, 52.51948122946169]\n",
      "OVI [-14.490606080946913, 1.0631400242334315, 100.37704131457242, 73.4946294131876]\n",
      "HI [77.89890258624175, 5.799799718220827, 57.21534061437004, 149.79551756389034]\n",
      "CII [103.85552009738555, 6.072632177500209, 24.281722697810086, 67.4420391684504]\n",
      "CIII [83.01213333947264, 4.999433901383286, 41.69464112205887, 101.5406006496479]\n",
      "SiIV [86.03682732697041, 3.4344660601208563, 27.225083239080792, 90.74914714010505]\n",
      "NV [29.652540486104215, 0.8447672051223301, 48.967345981270995, 39.043228385650345]\n",
      "OVI [21.873016163523765, 1.1258756124783806, 55.97574286132218, 48.351928726738876]\n"
     ]
    }
   ],
   "source": [
    "ion_list = ['HI', 'CII', 'CIII', 'SiIV', 'NV', 'OVI']\n",
    "orientation_list = ['face', 'edge_theta0', 'edge_theta1.0']#, 'edge_theta1.5']\n",
    "model_list = ['anisd', 'stream']\n",
    "radius_list = np.arange(10, 50, 10)\n",
    "for radius in radius_list:\n",
    "    for orientation in orientation_list:\n",
    "        for model in model_list:\n",
    "            vv_list, flux_list, ferr_list, theta_list = fhf.fit_spectrum(model, orientation, radius, ion_list = ion_list, \\\n",
    "                                                             use_errors = True, vmin = -200, vmax = 250, \\\n",
    "                                                             nwalkers = 200, niterations = 200)"
   ]
  },
  {
   "cell_type": "code",
   "execution_count": null,
   "metadata": {},
   "outputs": [],
   "source": [
    "ncols = int(len(ion_list) / 2)\n",
    "fig, ax = plt.subplots(nrows=2, ncols=ncols, figsize=(12, 6))\n",
    "for ion, vv, flux, ferr, theta in zip(ion_list, vv_list, flux_list, ferr_list, theta_list):\n",
    "    plot_fit(vv_ion, flux_ion, ferr_ion, theta, ax = ax[row][col], label = ion, color = 'red')\n",
    "\n",
    "    "
   ]
  },
  {
   "cell_type": "code",
   "execution_count": null,
   "metadata": {
    "scrolled": true
   },
   "outputs": [],
   "source": [
    "orientation_list = ['edge_theta1.0', 'edge_theta1.5']\n",
    "model_list = ['stream', 'anisd']\n",
    "radius_list = np.arange(10, 50, 10)\n",
    "ion_list = ['H I', 'Mg II', 'C II', 'Si II', 'Si III', 'Si IV', 'N V']\n",
    "ion_list = ['H I', 'C II', 'Si II', 'Si III', 'Si IV']\n",
    "\n",
    "#ion_list = ['H I']\n",
    "for orientation in orientation_list:\n",
    "    for model in model_list:\n",
    "        for radius in radius_list:\n",
    "            fig, ax = plt.subplots(nrows=1, ncols=1, figsize=(8, 6))\n",
    "            for ion in ion_list:\n",
    "                vv, flux, vvfit, fluxfit = load_data(orientation, model, radius, ion)\n",
    "                ax.plot(vv, flux, color = 'black', alpha = 0.2)\n",
    "                ax.plot(vvfit, fluxfit, label = ion)\n",
    "                ax.set_xlim(-200, 400)\n",
    "                ax.legend()\n",
    "                plt.savefig('../plots/velocity_%s_%s_%i.png'%(model, orientation, radius))\n",
    "    "
   ]
  },
  {
   "cell_type": "code",
   "execution_count": null,
   "metadata": {},
   "outputs": [],
   "source": []
  },
  {
   "cell_type": "code",
   "execution_count": null,
   "metadata": {},
   "outputs": [],
   "source": []
  }
 ],
 "metadata": {
  "kernelspec": {
   "display_name": "Python 3",
   "language": "python",
   "name": "python3"
  },
  "language_info": {
   "codemirror_mode": {
    "name": "ipython",
    "version": 3
   },
   "file_extension": ".py",
   "mimetype": "text/x-python",
   "name": "python",
   "nbconvert_exporter": "python",
   "pygments_lexer": "ipython3",
   "version": "3.5.5"
  }
 },
 "nbformat": 4,
 "nbformat_minor": 2
}
